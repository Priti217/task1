{
 "cells": [
  {
   "cell_type": "markdown",
   "id": "74ee32d0-c47a-4d44-a702-1dace5e7ccb7",
   "metadata": {},
   "source": [
    "## Q.1. creat your own class to perform a list serach operation"
   ]
  },
  {
   "cell_type": "code",
   "execution_count": 68,
   "id": "b10f12e3-b5b3-4b0c-b544-1e8edf80c8c2",
   "metadata": {},
   "outputs": [],
   "source": [
    "class search:\n",
    "    def __init__(self,L):\n",
    "        self.L = L\n",
    "\n",
    "    def t1(self,s):\n",
    "        self.s=s\n",
    "        for i in self.L:\n",
    "            if self.s in self.L :\n",
    "                print(self.s ,\"is present in a list\")\n",
    "                break\n",
    "            else:\n",
    "                print(self.s,\"is not present in a list\")\n",
    "                break\n",
    "    "
   ]
  },
  {
   "cell_type": "code",
   "execution_count": 69,
   "id": "4503d4e0-0742-43a0-b750-88d40b54f2a3",
   "metadata": {},
   "outputs": [],
   "source": [
    "h = search( [4,6,7,\"u\",9,\"i\",0,\"d\"])"
   ]
  },
  {
   "cell_type": "code",
   "execution_count": 70,
   "id": "f2fb57ff-d50b-47ab-8b37-baad72511391",
   "metadata": {},
   "outputs": [
    {
     "name": "stdout",
     "output_type": "stream",
     "text": [
      "8 is not present in a list\n"
     ]
    }
   ],
   "source": [
    "h.t1(8)"
   ]
  },
  {
   "cell_type": "markdown",
   "id": "45fb0ade-718e-45c3-b8ac-181294a60a0b",
   "metadata": {},
   "source": [
    "## ========================================================"
   ]
  },
  {
   "cell_type": "markdown",
   "id": "c9856e37-cdc5-46e4-8bb6-d32e9d15bda7",
   "metadata": {},
   "source": [
    "## Q.2 : Creat a class for dict new element addition."
   ]
  },
  {
   "cell_type": "code",
   "execution_count": 90,
   "id": "2bcf4f71-581c-492d-a94a-98e04fbf2904",
   "metadata": {},
   "outputs": [
    {
     "name": "stdout",
     "output_type": "stream",
     "text": [
      "{1: 'Python', 2: 'c++'}\n"
     ]
    }
   ],
   "source": [
    "class ele_addition(dict):\n",
    "    def __init__(self):\n",
    "        self.dict = dict()\n",
    "    def add(self,key,value):\n",
    "        self.key = key\n",
    "        self.value= value\n",
    "        self[key] = value\n",
    "        \n",
    "        \n",
    "dict_obj = ele_addition()\n",
    "\n",
    "dict_obj.add(1,\"Python\")\n",
    "dict_obj.add(2,\"c++\")\n",
    "print(dict_obj)"
   ]
  },
  {
   "cell_type": "markdown",
   "id": "0b4d97b3-0198-48b3-a7c1-4dfabe826912",
   "metadata": {},
   "source": [
    "## ======================================================"
   ]
  },
  {
   "cell_type": "markdown",
   "id": "9b93cd9e-99a0-41c5-92fd-9923f9f06078",
   "metadata": {},
   "source": [
    "## Q.5 : creat a class to implement insert , update and delete in mango db."
   ]
  },
  {
   "cell_type": "code",
   "execution_count": 102,
   "id": "158498f0-189c-45d7-8797-aac469ca3310",
   "metadata": {},
   "outputs": [],
   "source": [
    "import pymongo\n",
    "class mangodb:\n",
    "    def __init__(self,userid,password):\n",
    "        self.userid=userid\n",
    "        self.password=password\n",
    "    def connect(self):\n",
    "        print(\"this func will help you to connect with your mangodb\")\n",
    "        import pymongo\n",
    "        url=\"mongodb+srv://\"+ self.userid +\":\"+ self.password +\"@cluster0.4n0ho.mongodb.net/?retryWrites=true&w=majority\"\n",
    "        client = pymongo.MongoClient(url)\n",
    "        return client\n",
    "\n",
    "    def insert(self,data):\n",
    "        self.data=data\n",
    "        conn=self.connect()\n",
    "        print(\"this func will help you to insert into mangodb\")\n",
    "        db = conn[\"mangodb_test\"]\n",
    "        coll = db[\"mango_record\"]\n",
    "        o1=coll.insert_one(data)\n",
    "        "
   ]
  },
  {
   "cell_type": "markdown",
   "id": "6ea574e7-5462-4e51-93ca-2652cae6f3e2",
   "metadata": {},
   "source": [
    "## =============================================================="
   ]
  },
  {
   "cell_type": "markdown",
   "id": "9e75d2e8-9b30-4777-a2e9-30084c5cfa36",
   "metadata": {},
   "source": [
    "## Q.7 : create a class to import a data into file from mongodb"
   ]
  },
  {
   "cell_type": "code",
   "execution_count": 112,
   "id": "ca82e0e4-0e4d-4f65-9ed3-718d4ae62fe7",
   "metadata": {},
   "outputs": [],
   "source": [
    "import pymongo\n",
    "class mangodb:\n",
    "    def __init__(self,userid,password):\n",
    "        self.userid=userid\n",
    "        self.password=password\n",
    "    def connect(self):\n",
    "        print(\"this func will help you to connect with your mangodb\")\n",
    "        import pymongo\n",
    "        url=\"mongodb+srv://\"+ self.userid +\":\"+ self.password +\"@cluster0.4n0ho.mongodb.net/?retryWrites=true&w=majority\"\n",
    "        client = pymongo.MongoClient(url)\n",
    "        return client\n",
    "    def Data(self,data_info,ab):\n",
    "        self.data_info=data_info\n",
    "        url2=\"https://cloud.mongodb.com/v2/63baa1f1df55873300eff0ef#/metrics/replicaSet/63baa5366a9a9d58c44a6486/explorer/\" + self.data_info\n",
    "        file = open('gerk.txt')\n",
    "        file2 = open(\"63baaa55c781e957318d5f\"+self.ab)\n",
    "        j3= file.write(file2)"
   ]
  },
  {
   "cell_type": "markdown",
   "id": "4711e2ca-8a87-4311-a82c-82b9afaeab56",
   "metadata": {},
   "source": [
    "## ============================================================"
   ]
  },
  {
   "cell_type": "markdown",
   "id": "0739e57e-8a29-423a-a1b9-0179d07c4a67",
   "metadata": {},
   "source": [
    "## Q.8 : create a class to build a calculator funtionalities addition, substraction, multipliction,division,log,exponent,power"
   ]
  },
  {
   "cell_type": "code",
   "execution_count": 99,
   "id": "c7338b8e-af77-415f-b3ce-6d3a9574a2e2",
   "metadata": {},
   "outputs": [],
   "source": [
    "import math\n",
    "class Calculator:\n",
    "    def __init__(self,a,b):\n",
    "        self.a=a\n",
    "        self.b=b\n",
    "    def Additon (self):\n",
    "        Total = self.a+self.b\n",
    "        print(Total)\n",
    "    def Sub(self):\n",
    "        if self.a > self.b:\n",
    "            print(self.a - self.b)\n",
    "        else:\n",
    "            print(self.b - self.a)\n",
    "    def Divi(self):\n",
    "        try:\n",
    "            if self.a !=0 or self.b!=0:\n",
    "                print(self.a/self.b)\n",
    "        except ZeroDivisionError as e:\n",
    "            print(e)\n",
    "    def multi(self):\n",
    "        print(self.a*self.b)\n",
    "    def log(self):\n",
    "        print(math.log(self.a))\n",
    "        print(math.log(self.b))\n",
    "    def exponent(self):\n",
    "        print(math.exp(self.a))\n",
    "        print(math.exp(self.b))\n",
    "    def power(self):\n",
    "        print(math.pow(self.a,self.b))"
   ]
  },
  {
   "cell_type": "code",
   "execution_count": 100,
   "id": "fa8ed08f-28c2-4f8c-af9a-ba05e8cbfab3",
   "metadata": {},
   "outputs": [],
   "source": [
    "u1 = Calculator(9,3)"
   ]
  },
  {
   "cell_type": "code",
   "execution_count": 101,
   "id": "f7e133a8-e58a-4016-9057-14056d1c868b",
   "metadata": {},
   "outputs": [
    {
     "name": "stdout",
     "output_type": "stream",
     "text": [
      "3.0\n"
     ]
    }
   ],
   "source": [
    "u1.Divi()"
   ]
  },
  {
   "cell_type": "markdown",
   "id": "601e2e19-8cc7-42e5-a73a-efb92ae2ab43",
   "metadata": {},
   "source": [
    "## ============================================================"
   ]
  },
  {
   "cell_type": "markdown",
   "id": "3eb07d4d-848d-45cd-bfb8-728fca5e1c8b",
   "metadata": {},
   "source": [
    "## Q.11 : give 10 different example of polymorphism , encaptulation , data abstration , overloading, overriding, multiple inhertiance\n"
   ]
  },
  {
   "cell_type": "code",
   "execution_count": null,
   "id": "6667141f-d927-44e5-8753-43f01cb53fbc",
   "metadata": {},
   "outputs": [],
   "source": []
  }
 ],
 "metadata": {
  "kernelspec": {
   "display_name": "Python 3 (ipykernel)",
   "language": "python",
   "name": "python3"
  },
  "language_info": {
   "codemirror_mode": {
    "name": "ipython",
    "version": 3
   },
   "file_extension": ".py",
   "mimetype": "text/x-python",
   "name": "python",
   "nbconvert_exporter": "python",
   "pygments_lexer": "ipython3",
   "version": "3.10.6"
  }
 },
 "nbformat": 4,
 "nbformat_minor": 5
}
